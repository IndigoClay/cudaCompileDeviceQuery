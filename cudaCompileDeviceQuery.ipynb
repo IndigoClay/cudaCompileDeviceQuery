{
  "nbformat": 4,
  "nbformat_minor": 0,
  "metadata": {
    "colab": {
      "name": "cudaCompileDeviceQuery.ipynb",
      "provenance": [],
      "collapsed_sections": [],
      "authorship_tag": "ABX9TyNZfriu7HGLX0ZclynzaUL+",
      "include_colab_link": true
    },
    "kernelspec": {
      "name": "python3",
      "display_name": "Python 3"
    },
    "language_info": {
      "name": "python"
    },
    "accelerator": "GPU"
  },
  "cells": [
    {
      "cell_type": "markdown",
      "metadata": {
        "id": "view-in-github",
        "colab_type": "text"
      },
      "source": [
        "<a href=\"https://colab.research.google.com/github/IndigoClay/cudaCompileDeviceQuery/blob/main/cudaCompileDeviceQuery.ipynb\" target=\"_parent\"><img src=\"https://colab.research.google.com/assets/colab-badge.svg\" alt=\"Open In Colab\"/></a>"
      ]
    },
    {
      "cell_type": "code",
      "execution_count": 1,
      "metadata": {
        "colab": {
          "base_uri": "https://localhost:8080/"
        },
        "id": "NDLwIDPw7H4X",
        "outputId": "e615befe-8b72-4e09-97fb-818ab9c150d3"
      },
      "outputs": [
        {
          "output_type": "stream",
          "name": "stdout",
          "text": [
            "nvcc: NVIDIA (R) Cuda compiler driver\n",
            "Copyright (c) 2005-2020 NVIDIA Corporation\n",
            "Built on Mon_Oct_12_20:09:46_PDT_2020\n",
            "Cuda compilation tools, release 11.1, V11.1.105\n",
            "Build cuda_11.1.TC455_06.29190527_0\n",
            "Thu Mar 31 12:38:38 2022       \n",
            "+-----------------------------------------------------------------------------+\n",
            "| NVIDIA-SMI 460.32.03    Driver Version: 460.32.03    CUDA Version: 11.2     |\n",
            "|-------------------------------+----------------------+----------------------+\n",
            "| GPU  Name        Persistence-M| Bus-Id        Disp.A | Volatile Uncorr. ECC |\n",
            "| Fan  Temp  Perf  Pwr:Usage/Cap|         Memory-Usage | GPU-Util  Compute M. |\n",
            "|                               |                      |               MIG M. |\n",
            "|===============================+======================+======================|\n",
            "|   0  Tesla K80           Off  | 00000000:00:04.0 Off |                    0 |\n",
            "| N/A   52C    P8    29W / 149W |      0MiB / 11441MiB |      0%      Default |\n",
            "|                               |                      |                  N/A |\n",
            "+-------------------------------+----------------------+----------------------+\n",
            "                                                                               \n",
            "+-----------------------------------------------------------------------------+\n",
            "| Processes:                                                                  |\n",
            "|  GPU   GI   CI        PID   Type   Process name                  GPU Memory |\n",
            "|        ID   ID                                                   Usage      |\n",
            "|=============================================================================|\n",
            "|  No running processes found                                                 |\n",
            "+-----------------------------------------------------------------------------+\n"
          ]
        }
      ],
      "source": [
        "!nvcc --version\n",
        "!nvidia-smi"
      ]
    },
    {
      "cell_type": "code",
      "source": [
        "!git clone https://github.com/IndigoClay/cudaCompileDeviceQuery.git"
      ],
      "metadata": {
        "colab": {
          "base_uri": "https://localhost:8080/"
        },
        "id": "vF0tTH9BhIrO",
        "outputId": "9a4f5ac4-e1c6-4d70-90b1-50a8c42a6dcf"
      },
      "execution_count": 2,
      "outputs": [
        {
          "output_type": "stream",
          "name": "stdout",
          "text": [
            "Cloning into 'cudaCompileDeviceQuery'...\n",
            "remote: Enumerating objects: 22, done.\u001b[K\n",
            "remote: Counting objects: 100% (22/22), done.\u001b[K\n",
            "remote: Compressing objects: 100% (16/16), done.\u001b[K\n",
            "remote: Total 22 (delta 6), reused 16 (delta 3), pack-reused 0\u001b[K\n",
            "Unpacking objects: 100% (22/22), done.\n"
          ]
        }
      ]
    },
    {
      "cell_type": "code",
      "source": [
        "!pip install git+https://github.com/andreinechaev/nvcc4jupyter.git"
      ],
      "metadata": {
        "id": "nWBt2To_7QhE"
      },
      "execution_count": null,
      "outputs": []
    },
    {
      "cell_type": "code",
      "source": [
        "!pip install git+https://github.com/IndigoClay/nvcc4jupyter.git"
      ],
      "metadata": {
        "colab": {
          "base_uri": "https://localhost:8080/"
        },
        "id": "JywImrhB7VQi",
        "outputId": "083d3b3f-5d8b-4710-c956-5e6a54f69b71"
      },
      "execution_count": 3,
      "outputs": [
        {
          "output_type": "stream",
          "name": "stdout",
          "text": [
            "Collecting git+https://github.com/IndigoClay/nvcc4jupyter.git\n",
            "  Cloning https://github.com/IndigoClay/nvcc4jupyter.git to /tmp/pip-req-build-77xjwnhl\n",
            "  Running command git clone -q https://github.com/IndigoClay/nvcc4jupyter.git /tmp/pip-req-build-77xjwnhl\n",
            "Building wheels for collected packages: NVCCPlugin\n",
            "  Building wheel for NVCCPlugin (setup.py) ... \u001b[?25l\u001b[?25hdone\n",
            "  Created wheel for NVCCPlugin: filename=NVCCPlugin-0.0.2-py3-none-any.whl size=4286 sha256=22c801c020c2e4ce0372b29798840b483c739ceacafc28f769514cd0817c3e28\n",
            "  Stored in directory: /tmp/pip-ephem-wheel-cache-4pyg8qsp/wheels/c4/52/63/f7029f491c28a55cf4cb96d4abbcb3460592100edbd8560c5e\n",
            "Successfully built NVCCPlugin\n",
            "Installing collected packages: NVCCPlugin\n",
            "Successfully installed NVCCPlugin-0.0.2\n"
          ]
        }
      ]
    },
    {
      "cell_type": "code",
      "source": [
        "%load_ext nvcc_plugin"
      ],
      "metadata": {
        "colab": {
          "base_uri": "https://localhost:8080/"
        },
        "id": "2JTC5foM7cEs",
        "outputId": "5f733bf4-9523-4cb3-f2f9-e53496a1db0e"
      },
      "execution_count": 4,
      "outputs": [
        {
          "output_type": "stream",
          "name": "stdout",
          "text": [
            "created output directory at /content/src\n",
            "Out bin /content/result.out\n"
          ]
        }
      ]
    },
    {
      "cell_type": "code",
      "source": [
        "%%cu\n",
        "#include <stdio.h>\n",
        "\n",
        "#define NUM_BLOCKS 16\n",
        "#define BLOCK_WIDTH 1\n",
        "\n",
        "__global__ void hello()\n",
        "{\n",
        "    printf(\"Hello world! I'm a thread in block %d\\n\", blockIdx.x);\n",
        "}\n",
        "\n",
        "\n",
        "int main(int argc,char **argv)\n",
        "{\n",
        "    // launch the kernel\n",
        "    hello<<<NUM_BLOCKS, BLOCK_WIDTH>>>();\n",
        "\n",
        "    // force the printf()s to flush\n",
        "    cudaDeviceSynchronize();\n",
        "    \n",
        "    printf(\"That's all!\\n\");\n",
        "\n",
        "    return 0;\n",
        "}"
      ],
      "metadata": {
        "id": "T7Ib0iaT7hti"
      },
      "execution_count": null,
      "outputs": []
    },
    {
      "cell_type": "code",
      "source": [
        "!cd /content/cudaCompileDeviceQuery && pwd && make"
      ],
      "metadata": {
        "colab": {
          "base_uri": "https://localhost:8080/"
        },
        "id": "rCUgtYbm_XHA",
        "outputId": "378b9596-505e-424c-b548-8d026c82f0a2"
      },
      "execution_count": 9,
      "outputs": [
        {
          "output_type": "stream",
          "name": "stdout",
          "text": [
            "/content/cudaCompileDeviceQuery\n",
            "make: Nothing to be done for 'all'.\n"
          ]
        }
      ]
    },
    {
      "cell_type": "code",
      "source": [
        "!./cudaCompileDeviceQuery/deviceQuery"
      ],
      "metadata": {
        "id": "pQxbfcx-LE46"
      },
      "execution_count": null,
      "outputs": []
    },
    {
      "cell_type": "code",
      "source": [
        "!pwd"
      ],
      "metadata": {
        "id": "pNl9A7giN-GO"
      },
      "execution_count": null,
      "outputs": []
    },
    {
      "cell_type": "code",
      "source": [
        "%%cu\n",
        "#include <cuda_runtime.h>\n",
        "#include <iostream>\n",
        "\n",
        "//demonstating the usage of global memory\n",
        "\n",
        "using namespace std;\n",
        "__global__ void use_global_memory_GPU(float *array)\n",
        "{\n",
        "    array[threadIdx.x] = 3.14f * (float) threadIdx.x;\n",
        "}\n",
        "\n",
        "int main(int argc, char **argv)\n",
        "{\n",
        "    float h_arr[128];\n",
        "    float *d_arr;\n",
        " \n",
        "    cudaMalloc((void **)&d_arr, sizeof(float)*128);\n",
        "    cudaMemcpy((void *)d_arr, (void *)h_arr, sizeof(float)*128, cudaMemcpyHostToDevice);\n",
        " \n",
        "    use_global_memory_GPU<<<1, 128>>>(d_arr);\n",
        "    cudaMemcpy((void *)h_arr, (void *)d_arr, sizeof(float)*128, cudaMemcpyDeviceToHost);\n",
        "    cudaFree(d_arr);\n",
        "    for (auto const& i : h_arr) {\n",
        "      cout << i << \"  \";\n",
        "    }\n",
        "    cout << h_arr[2];\n",
        "    //system(\"ls\");\n",
        "}"
      ],
      "metadata": {
        "id": "Zlh0a8voHIG0"
      },
      "execution_count": null,
      "outputs": []
    }
  ]
}